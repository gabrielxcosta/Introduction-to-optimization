{
  "nbformat": 4,
  "nbformat_minor": 0,
  "metadata": {
    "colab": {
      "provenance": [],
      "collapsed_sections": [],
      "mount_file_id": "1jkQzq6Dz8fJxgmuXk5q9bQKJT7LZKhiq",
      "authorship_tag": "ABX9TyNQwlrWFIpvifYOZqrS3Vf5",
      "include_colab_link": true
    },
    "kernelspec": {
      "name": "python3",
      "display_name": "Python 3"
    },
    "language_info": {
      "name": "python"
    }
  },
  "cells": [
    {
      "cell_type": "markdown",
      "metadata": {
        "id": "view-in-github",
        "colab_type": "text"
      },
      "source": [
        "<a href=\"https://colab.research.google.com/github/gabrielxcosta/Introduction-to-optimization/blob/main/Implementation/Workforce_Scheduling_Linear_Programming_Problem_HHC.ipynb\" target=\"_parent\"><img src=\"https://colab.research.google.com/assets/colab-badge.svg\" alt=\"Open In Colab\"/></a>"
      ]
    },
    {
      "cell_type": "markdown",
      "source": [
        "# **Modelando o problema**:\n",
        "\n",
        "## **Características principais:**\n",
        "\n",
        "### **Trabalhador**:\n",
        "  - Uma janela de tempo de trabalho $[TW_{inf}^{w},TW_{sup}^{w}]$, um trabalhador w está disponível apenas nesse período. A definição da janela de tempo de trabalho pode variar em diferentes cenários: o tempo de viagem é considerado como tempo de trabalho; um trabalhador pode ser forçado a violar suas janelas de tempo de trabalho se for necessário executar uma tarefa. No artigo, o tempo de viagem não é considerado como tempo de trabalho e um trabalhador pode trabalhar além de sua janela de tempo se necessário, mas essas horas extras são penalizadas na função objetivo.\n",
        "  \n",
        "  - Locais de partida e chegada: são os locais onde os trabalhadores iniciam e terminam suas viagens. Esses locais podem ser um depósito único ou vários locais, assumindo que cada trabalhador pode começar em sua própria casa. Diferentes cenários são possíveis, por exemplo, a política de algumas empresas pode obrigar os trabalhadores a iniciar seu horário de trabalho no escritório principal, mas eles podem voltar para casa diretamente após a última tarefa realizada.\n",
        "\n",
        "  -  Habilidades: cada trabalhador tem habilidades diferentes.\n",
        "\n",
        "  - Agrupamento: algumas tarefas podem exigir a execução de vários trabalhadores e só podem ser iniciadas quando todos os trabalhadores estiverem juntos.\n",
        "\n",
        "  - Regiões disponíveis: os trabalhadores têm regiões de preferência para trabalhar e regiões desprezadas.\n",
        "\n",
        "### **Tarefa**:\n",
        "\n",
        " - Janela de tempo [$e_{j}$, $l_{j}$] para executar uma tarefa $j$: se um trabalhador chega antes da janela de tempo, a tarefa não pode começar e um tempo de espera é incorrido.\n",
        "\n",
        " - Requisitos de habilidade: uma tarefa requer uma ou várias habilidades específicas. Para realizar uma tarefa, um trabalhador deve ter pelo menos uma habilidade exigida pela tarefa.\n",
        "\n",
        " - O tempo de processamento é o tempo para executar uma tarefa. O tempo de processamento geralmente é considerado uma duração fixa, mas pode ser dependente do trabalhador ou estocástico.\n",
        "\n",
        " - Localização: cada tarefa tem uma localização e, portanto, deve-se levar em conta o tempo de transporte de um local para outro.\n",
        "\n",
        "### **Roteamento**:\n",
        "\n",
        " - Definimos um grafo $G = (V, E)$;\n",
        "\n",
        " - Onde $V$ é o conjunto de nós e $E$ o conjunto de arestas;\n",
        "\n",
        " - $V=T ∪ D ∪ D'$ é composto pelo conjunto $D$ de locais de partida  dos trabalhadores (os trabalhadores podem iniciar sua viagem de sua casa ou de um depósito), o conjunto $D'$ de locais de chegada dos trabalhadores (e observações semelhantes valem para os locais de partida e para o local de chegada das viagens), e o conjunto $T$ de tarefas caracterizadas pelo seu tempo de processamento e pela sua localização.\n",
        "\n",
        "- Uma tarefa $j ∈ T$ precisa ser alcançada por $r_{j}$ trabalhadores; se $r_{j} > 1$ , a tarefa é representada por $r_{j}$ nós no grafo. Uma aresta entre os dois nós representa a viagem de um trabalhador entre a localização de ambas as tarefas: uma aresta entre duas tarefas significa que ambas as tarefas são executadas pelo mesmo trabalhador. O tempo de transporte entre duas tarefas $i$ e $j$ é $dist_{i,j}$\n",
        "\n",
        "- $W=\\{w_{1}, w_{i} ,..., w_{|W|}\\}$ é o conjunto de trabalhadores disponíveis. Para uma tarefa $j$ e um trabalhador $w$ existem três tipos de preferências: satisfação emparelhamento trabalhador-cliente: $p_{s_{j}}^{w}$; regiões de satisfação do trabalhador: $pa_{j}^{w}$ e as habilidades de satisfação do cliente: $pw_{j}^{w}$ Essas três preferências são agregadas em $p_{j}^{w} = (pa_{j}^{w} + pw_{j}^{w} + ps_{j}^{w})$. Além disso, $p_{j}^{w}$ é o custo do trabalhador $w$ realizando a tarefa $j$ de acordo com o compromisso entre o cliente e a empresa. Tanto os trabalhadores quanto as tarefas têm janela de tempo: uma tarefa $j$ deve ser iniciada durante sua janela de tempo $[e_{i}, l_{i}]$ (mas pode ser concluída na janela de tempo se o tempo de processamento for muito longo); e um trabalhador $w$ pode trabalhar apenas durante sua janela de tempo de trabalho $[TW_{inf}^{w},TW_{sup}^{w}]$ o tempo de viagem não é considerado como tempo de trabalho neste artigo.\n",
        "\n",
        "| **Objetivo**                                         | **Restrições**            | **Preferências**                                  |\n",
        "|------------------------------------------------------|---------------------------|---------------------------------------------------|\n",
        "| **Custo da viagem**                                      | **Habilidades requeridas**    | **Janelas de tempo do trabalhador**                   |\n",
        "| **Custo do salário**                                     | **Contrato**                  | **Regiões disponíveis para trabalhadores**            |\n",
        "| **Preferências  (habilidades, regiões,  trabalhadores)** | **Janela de tempo da tarefa** | **Número de trabalhadores necessários para a tarefa** |\n",
        "| **Tarefas não  atribuídas**                              |                           |                                                   |\n"
      ],
      "metadata": {
        "id": "Nb9hf8d7uPKP"
      }
    },
    {
      "cell_type": "markdown",
      "source": [
        "# **Parâmetros**:\n",
        "\n",
        "  - $W$ - conjunto de trabalhadores\n",
        "\n",
        "  - $T$ - conjunto de tarefas\n",
        "\n",
        "  - $dist_{i, j}$ - distância da tarefa $i$ à tarefa $j$\n",
        "\n",
        "  - $p_{j}^{w}$ - custo do trabalhador $w$ para realizar $j$.\n",
        "\n",
        "  - $Dur_{j}$ - tempo de processamento da tarefa $j$\n",
        "\n",
        "  - $r_{j}$ - número de trabalhadores necessários para realizar a tarefa 𝑗\n",
        "\n",
        "  - $pw_{j}^{w}$ - nível de satisfação ($pw_{j}^{w} \\in [0,1]$) quando o trabalhador $w$ é atribuído à tarefa $j$\n",
        "\n",
        "  - $pa_{j}^{w}$ - nível de satisfação ($pa_{j}^{w} \\in [0,1]$) quando o trabalhador $w$ é atribuído à tarefa $j$ considerando as preferências regionais (a tarefa $j$ está localizada em uma região $k$)\n",
        "\n",
        "  - $ps_{j}^{w}$ - nível de satisfação da habilidade ($ps_{j}^{w} \\in [0,1]$) com $ps_{j}^{w} = \\max (ps_{j}^{i})$ quando a tarefa $j$ é atribuída ao trabalhador $w$\n",
        "\n",
        "  - $p_{j}^{w}$ = $(pa_{j}^{w} + pw_{j}^{w} + ps_{j}^{w}) \\forall w \\in W$, $j \\in T$ - é a qualidade do serviço.\n",
        "\n",
        "  - [$e_{j}$, $l_{j}$] - janela de tempo da tarefa $j$\n",
        "\n",
        "  - [$TW_{inf}^{w}$, $TW_{sup}^{w}$] - janela de tempo de trabalho do trabalhador $w$"
      ],
      "metadata": {
        "id": "hxd7_ZejWelP"
      }
    },
    {
      "cell_type": "markdown",
      "source": [
        "# **Variáveis de decisão:**"
      ],
      "metadata": {
        "id": "3h1y3kNpA1nV"
      }
    },
    {
      "cell_type": "markdown",
      "source": [
        "## **Variáveis binárias:**\n",
        "\n",
        " - $x_{i,j}^{w} = \\begin{cases} 1, & \\mbox{se o trabalhador } w \\mbox{ passar da tarefa } i \\mbox{ para } j\\\\ 0, & \\mbox{senão } \\end{cases}$\n",
        "\n",
        " - $x_{0,j}^{w} = \\begin{cases} 1, & \\mbox{se o trabalhador } w \\mbox{ se deslocar do local de partida para a tarefa } i \\\\ 0, & \\mbox{senão } \\end{cases}$\n",
        "\n",
        " - $x_{i,0}^{w} = \\begin{cases} 1, & \\mbox{se o trabalhador } w \\mbox{ passar da tarefa } i \\mbox{ para o local de término } 0\\\\ 0, & \\mbox{senão } \\end{cases}$\n",
        "\n",
        " - $\\psi_{j}^{w} = \\begin{cases} 1, & \\mbox{se o trabalhador } w \\mbox{ for designado para uma tarefa } j \\mbox{ situada fora da região de preferência } \\\\ 0, & \\mbox{senão } \\end{cases}$\n",
        "\n",
        " - $\\theta_{j}^{w} = \\begin{cases} 1, & \\mbox{se a violação da janela de tempo ocorrer quando a tarefa } j \\mbox{ for atribuída ao trabalhador } w \\\\ 0, & \\mbox{senão } \\end{cases}$"
      ],
      "metadata": {
        "id": "z1-vilm0WXkJ"
      }
    },
    {
      "cell_type": "markdown",
      "source": [
        "## **Variáveis contínuas:**\n",
        "  - $y_{j}$ - número de trabalhadores não disponíveis para realizar a tarefa $j$\n",
        "\n",
        "  - $t_{j}$ - hora de início da tarefa $j$\n",
        "\n",
        "  - $d_{j}^{w}$ - hora de saída do trabalhador $w$ da tarefa $j$\n",
        "\n",
        "  - $a_{j}^{w}$ - hora de chegada do trabalhador $w$ à tarefa $j$"
      ],
      "metadata": {
        "id": "YkjBXxZDLKqv"
      }
    },
    {
      "cell_type": "markdown",
      "source": [
        "# **Função objetivo:**\n",
        "\n",
        "$$\\min f(s) = \\lambda_{1} \\sum_{w = 1}^{W} \\sum_{i = 0}^{T} \\sum_{j = 1}^{T} (dist_{i, j} + p_{j}^{w})x_{i, j}^{w} + \\lambda_{2} \\sum_{j=1}^{T} (3r_{j} - \\sum_{i = 0}^{T} \\sum_{w = 1}^{W} p_{j}^{w}x_{i, j}^{w}) + \\lambda_{3} \\sum_{j=1}^{T} \\sum_{w=1}^{W} (\\psi_{j}^{w} + \\theta_{j}^{w}) + \\lambda_{4} \\sum_{j=1}^{T} y_{j}$$ \n",
        "\n",
        "<center>\n",
        "\n",
        "**Ordem de prioridade dos pesos: $\\lambda_{4} ≽ \\lambda_{3} ≽ \\lambda_{2} ≽ \\lambda_{1}$**\n",
        "\n",
        "</center>\n",
        "\n",
        "## **Primeiro critério**:\n",
        "\n",
        "$$\\lambda_{1} \\sum_{w = 1}^{W} \\sum_{i = 0}^{T} \\sum_{j = 1}^{T} (dist_{i, j} + p_{j}^{w})x_{i, j}^{w}$$\n",
        "\n",
        "Através do peso $𝜆_{1}$, a prioridade mais baixa é dada para minimizar o custo monetário que representa o custo operacional em termos do custo total de viagem $dist_{i,j}$ e salário do trabalhador $p_{j}^{w}$.\n",
        "\n",
        "\n",
        "## **Segundo critério**:\n",
        "\n",
        "$$\\lambda_{2} \\sum_{j=1}^{T} (3r_{j} - \\sum_{i = 0}^{T} \\sum_{w = 1}^{W} p_{j}^{w}x_{i, j}^{w})$$\n",
        "\n",
        "O peso $𝜆_{2}$ dá prioridade para minimizar as penalidades de preferências: emparelhamento preferido de trabalhadores-clientes, regiões preferidas de trabalhadores e habilidades preferidas dos clientes. O grau de satisfação dessas preferências quando o trabalhador $𝑤$ é atribuído à tarefa $𝑗$ é dado por $𝜌_{j}^{k} = 𝑝𝑎_{𝑗}^{𝑤} + 𝑝w_{𝑗}^{𝑤} + 𝑝_{S_{j}}^{𝑤}$ que tem um valor no intervalo [0, 3] desde a satisfação dos três tipos de preferências para cada atribuição, possui valor $𝑝𝑎_{𝑗}^{𝑤}, 𝑝w_{𝑗}^{𝑤}, 𝑝_{S_{j}}^{𝑤} \\in [0,1]^{3}$: Um valor de 1 significa que $w$ está totalmente satisfeito, um valor 0 que significa $𝑤$ não está satisfeito. O nível de satisfação é revertido para penalidade subtraindo-o da pontuação máxima de satisfação, que é $3r_{j}$ para cada tarefa $j$.\n",
        "\n",
        "## **Terceiro critério**:\n",
        "\n",
        "$$\\lambda_{3} \\sum_{j=1}^{T} \\sum_{w=1}^{W} (\\psi_{j}^{w} + \\theta_{j}^{w})$$\n",
        "\n",
        "Uma vez que, em casos práticos (em particular no HHC), alguns trabalhadores devem aceitar realizar algumas tarefas que estão fora da sua janela de tempo de trabalho ou fora da sua disponibilidade de região geográfica; a segunda prioridade mais alta na função objetivo é minimizar o número de violações de disponibilidade de tempo de trabalhadores e o número de violações de preferência de região de trabalho, através do peso $\\lambda_{3}$.\n",
        "\n",
        "## **Quarto critério**:\n",
        "\n",
        "$$\\lambda_{4} \\sum_{j=1}^{T} y_{j}$$\n",
        "\n",
        "Como um dos objetivos mais importantes do serviço é realizar o maior número de tarefas possível, a maior prioridade na função objetivo é dada para minimizar tarefas não atribuídas por meio do peso $𝜆_{4}$."
      ],
      "metadata": {
        "id": "ctBBdiin-59H"
      }
    },
    {
      "cell_type": "markdown",
      "source": [
        "# **Restrições:**\n",
        "## **Conjunto 1**:\n",
        "A viagem de um trabalhador $𝑤$ da tarefa $𝑖$ para a tarefa $𝑗$ é definida por $x_{i,j}^{w} = 1$ (tarefa $0$ é o local inicial e tarefa $|T|$ é o local final). Assim, estas restrições garantem que para um trabalhador $w$: de uma tarefa $i$ um trabalhador $w$ pode viajar para no máximo uma outra tarefa (1ª restrição); para uma tarefa $j$ um trabalhador pode viajar de no máximo uma tarefa (2ª restrição); e se $w$ for atribuído a uma tarefa $j$ após a tarefa $i$ então $x_{i,j}^{w} = 1$ e (3ª restrição) pode ser reescrita como $\\sum_{u=0}^{T} x_{j,u}^{w} = 1$ significando que $w$ deve viajar para outra tarefa (ou para a localização final) e não pode ficar nesta posição.\n",
        "\n",
        "  - $\\sum_{j=0}^{T} x_{i,j}^{w} ≼ 1$, $∀ i = 0..|T|, w = 1..|W|$\n",
        "\n",
        "  - $\\sum_{i=0}^{T} x_{i,j}^{w} ≼ 1$, $∀ i = 0..|T|, w = 1..|W|$\n",
        "\n",
        "  - $\\sum_{i=0}^{T} x_{i,j}^{w} = \\sum_{u=0}^{T} x_{j,u}^{w}$, $∀ i = 0..|T|, w = 1..|W|$\n",
        "\n",
        "## **Conjunto 2**:\n",
        "O número de trabalhadores atribuídos à tarefa $𝑗$ deve estar de acordo com $r_{j}$ ou seja, com o número de trabalhadores necessários para realizar a tarefa $𝑗$. $𝑦_{𝑗}$ é o número de trabalhadores ausentes para a tarefa alcançada $j$ e é definida por: $𝑦_{𝑗} = 𝑟_{𝑗} − \\sum_{w=1}^{W} \\sum_{i=0}^{T} x_{i,j}^{w}$. Se uma tarefa $𝑗$ exigir três trabalhadores ($𝑟_{j} = 3$), mas apenas um trabalhador $𝑤_{1}$ é atribuído a $𝑗$ para que exista um e apenas um $𝑥_{𝑖,j}^{𝑤} = 1$ e a restrição poderá ser reescrita como $\\sum_{w=1}^{W} \\sum_{i=0}^{T} x_{i,j}^{w} + y_{j} = 1 + y_{i} = 3$. Por consequência, $𝑦_{𝑖} = 2$ que é o número de trabalhadores ausentes para realizar a tarefa.\n",
        "\n",
        "  - $\\sum_{w=1}^{W} \\sum_{i=0}^{T} x_{i,j}^{w} + y_{j} = r_{j}$, $\\forall j = 1..|T|$\n",
        "\n",
        "## **Conjunto 3**:\n",
        "Idealmente, um trabalhador deve ser designado para tarefas em suas regiões geográficas disponíveis. No entanto, as violações da região de preferência são possíveis e devem ser medidas para definir a terceira parte da função objetivo. Na restrição 1, se $𝑝𝑎_{𝑗}^{𝑤} = 0$, o trabalhador $w$ é atribuído à tarefa $𝑗$ que está localizado em uma região não desejada, a restrição 1 pode ser reescrita como, $\\psi_{j}^{w} ≽ \\sum_{i=0}^{T} x_{i,j}^{w}$ implicando $\\psi_{j}^{w} ≽ 1$.\n",
        "\n",
        "Quando ambas as tarefas $i$ e $𝑗$ são atribuídas ao trabalhador $𝑤, 𝑥_{𝑖,𝑗}^{𝑤} = 1$ e a restrição 2:\n",
        "\n",
        "$M.\\theta_{j} ≽ t_{j} + Dur_{j} - TW_{sup}^{w} + (\\sum_{i=0}^{T} x_{i,j}^{w} - 1).M$\n",
        "\n",
        "$M.\\theta_{j} ≽ TW_{inf}^{w} - t_{j} + (\\sum_{i=0}^{T} x_{i,j}^{w} - 1).M$\n",
        "\n",
        "pode ser reescrita como:\n",
        "\n",
        "$M.\\theta_{j} ≽ t_{j} + Dur_{j} - TW_{sup}^{w}$\n",
        "\n",
        "$M.\\theta_{j} ≽ TW_{inf}^{w} - t_{j}$\n",
        "\n",
        "A restrição 2 garante que, se o tempo de conclusão ($𝑡_{𝑗} + 𝐷u𝑟_{𝑗}$) da tarefa $𝑗$ exceder $TW_{sup}^{w}$, a variável binária $𝜃_{𝑗}$ é definida como $1$. Como $𝑡_{𝑗} + 𝐷u𝑟_{𝑗} - TW_{sup}^{w} > 0$, a restrição 2 é reescrita como $M.\\theta_{j} ≽ t_{j} + Dur_{j} - TW_{sup}^{w} > 0$ e garante que $𝜃_{𝑗} = 1$. A restrição 3 garante que $𝜃_{𝑗} = 1$, se $t_{j} < TW_{inf}^{w}$, isto é, quando $TW_{inf}^{w} - t_{j} > 0$, o que significa que o trabalhador $w$ tem que executar tarefa $𝑗$ antes do final de sua janela de tempo de trabalho.\n",
        "\n",
        "  - $\\psi_{j}^{w} + M.pa_{j}^{w} ≽ \\sum_{i=0}^{T} x_{i,j}^{w}, \\forall w = 1..|W|, j = 1..|T|$\n",
        "\n",
        "  - $M.\\theta_{j} ≽ t_{j} + Dur_{j} - TW_{sup}^{w} + (\\sum_{i=0}^{T} x_{i,j}^{w} - 1).M, \\forall w = 1..|W|, j = 1..|T|$\n",
        "\n",
        "  - $M.\\theta_{j} ≽ TW_{inf}^{w} - t_{j} + (\\sum_{i=0}^{T} x_{i,j}^{w} - 1).M, \\forall w = 1..|W|, j = 1..|T|$\n",
        "\n",
        "## **Conjunto 4**:\n",
        "Nos cenários abordados nesta apresentação, um trabalhador pode realizar uma tarefa exigida por um cliente se e somente se o trabalhador tiver sido incluído no contrato do cliente (restrição abaixo), neste caso $𝑐_{𝑗}^{𝑤} = 1$, caso contrário $𝑐_{𝑗}^{𝑤} = 0$ e $\\sum_{i=0}^{T} x_{i,j}^{w} < 0$ que impõe $x_{i,j}^{w} = 0$.\n",
        "\n",
        "  - $\\sum_{i=0}^{T} x_{i,j}^{w} ≼ c_{j}^{w}, \\forall j = 1..|T|, w = 1..|W|$\n",
        "\n",
        "## **Conjunto 5**:\n",
        "Se um trabalhador $𝑤$ for atribuído a uma tarefa $𝑗$ após uma tarefa $𝑖$, então $x_{i,j}^{w} = 1$, então a restrição 1 pode ser reescrita como $𝑑_{𝑗}^{𝑤} ≽ (𝑡_{𝑗} + 𝐷ur_{j})$ implicando que o tempo de partida $𝑑_{𝑗}^{𝑤}$ do trabalhador $𝑤$ da tarefa $𝑗$ deve ser maior que o tempo de início $𝑡_{𝑗}$ de $𝑗$ mais o tempo de processamento $Dur_{j}$ de $𝑗$. Se $x_{i,j}^{w} = 0$, (restrição 1) pode ser reescrito como: $𝑑_{𝑗}^{𝑤} ≽ −𝑀$ e essa restrição é válida.\n",
        "\n",
        "A restrição 2 garante que, se um trabalhador $𝑤$ for atribuído à tarefa $𝑗$ após a tarefa $i$ ($x_{i,j}^{w} = 1$) então $𝑎_{𝑗}^{w} ≽ (d_{s_{i}}^{w} + dist_{i,j})$ deve manter, implicando que o tempo de chegada $a_{j}^{w}$ de $𝑤$ na tarefa $𝑗$ está depois de seu horário de partida $d_{i}^{w}$ da tarefa $𝑖$ mais a distância entre as tarefas $𝑖$ e $𝑗$. Se $x_{i,j}^{w} = 0$, ( restrição 2) pode ser reescrito como: $a_{j}^{w} ≽ −𝑀$ e esta restrição é válida.\n",
        "\n",
        "  - $d_{j}^{w} ≽ (t_{j} + Dur_{j}) + (\\sum_{i=0}^{T} x_{i,j}^{w} - 1).M, \\forall w = 1..|W|, j = 1..|T|$\n",
        "\n",
        "  - $a_{j}^{w} ≽ (d_{i}^{w} + dist_{i, j}) + (x_{i,j}^{w} - 1).M, \\forall w = 1..|W|, i = 0..|T|, j = 1..|T|$\n",
        "\n",
        "## **Conjunto 6**:\n",
        "A hora de início $𝑡_{j}$ da tarefa $𝑗$ deve ser posterior à hora de chegada $a_{j}^{w}$ de todos os trabalhadores necessários $w$ para realizar a tarefa (restrição 1). Além disso, uma tarefa $𝑗$ tem uma janela de tempo [$e_{j}$ , $l_{j}$] e pode começar somente após o início $e_{j}$ de sua janela de tempo (restrição 2) e antes do final de sua janela de tempo (restrição 3).\n",
        "\n",
        "  - $t_{j} ≽ a_{j}^{w}, \\forall w = 1..|W|, j = 1..|T|$\n",
        "\n",
        "  - $t_{j} ≽ e_{j}, \\forall j = 1..|T|$\n",
        "\n",
        "  - $t_{j} ≼ l_{j}, \\forall j = 1..|T|$\n",
        "\n",
        "## **Domínio das variáveis**:\n",
        "\n",
        "$x_{i,j}^{w}, \\theta_{j}^{w}, \\psi_{j}^{w} \\in \\{0, 1\\}, y_{j} \\in ℕ, t_{i}, a_{j}^{w}, d_{j}^{w} \\in ℝ$"
      ],
      "metadata": {
        "id": "HmJoetxhhiny"
      }
    }
  ]
}